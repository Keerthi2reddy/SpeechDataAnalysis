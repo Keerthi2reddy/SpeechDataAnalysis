{
 "cells": [
  {
   "cell_type": "code",
   "execution_count": 1,
   "metadata": {},
   "outputs": [
    {
     "name": "stdout",
     "output_type": "stream",
     "text": [
      "Collecting phonemeRecognizerWrapper\n",
      "  Downloading phonemeRecognizerWrapper-0.1.4-py3-none-any.whl.metadata (5.4 kB)\n",
      "Collecting allosaurus (from phonemeRecognizerWrapper)\n",
      "  Downloading allosaurus-1.0.2-py3-none-any.whl.metadata (400 bytes)\n",
      "Requirement already satisfied: pydub in c:\\users\\keerthi\\appdata\\local\\packages\\pythonsoftwarefoundation.python.3.10_qbz5n2kfra8p0\\localcache\\local-packages\\python310\\site-packages (from phonemeRecognizerWrapper) (0.25.1)\n",
      "Requirement already satisfied: setuptools in c:\\program files\\windowsapps\\pythonsoftwarefoundation.python.3.10_3.10.3056.0_x64__qbz5n2kfra8p0\\lib\\site-packages (from phonemeRecognizerWrapper) (65.5.0)\n",
      "Requirement already satisfied: scipy in c:\\users\\keerthi\\appdata\\local\\packages\\pythonsoftwarefoundation.python.3.10_qbz5n2kfra8p0\\localcache\\local-packages\\python310\\site-packages (from allosaurus->phonemeRecognizerWrapper) (1.7.3)\n",
      "Requirement already satisfied: numpy in c:\\users\\keerthi\\appdata\\local\\packages\\pythonsoftwarefoundation.python.3.10_qbz5n2kfra8p0\\localcache\\local-packages\\python310\\site-packages (from allosaurus->phonemeRecognizerWrapper) (1.22.3)\n",
      "Collecting resampy (from allosaurus->phonemeRecognizerWrapper)\n",
      "  Downloading resampy-0.4.3-py3-none-any.whl.metadata (3.0 kB)\n",
      "Collecting panphon (from allosaurus->phonemeRecognizerWrapper)\n",
      "  Downloading panphon-0.21.2-py2.py3-none-any.whl.metadata (15 kB)\n",
      "Requirement already satisfied: torch in c:\\users\\keerthi\\appdata\\local\\packages\\pythonsoftwarefoundation.python.3.10_qbz5n2kfra8p0\\localcache\\local-packages\\python310\\site-packages (from allosaurus->phonemeRecognizerWrapper) (2.2.1)\n",
      "Collecting editdistance (from allosaurus->phonemeRecognizerWrapper)\n",
      "  Downloading editdistance-0.8.1-cp310-cp310-win_amd64.whl.metadata (3.9 kB)\n",
      "Requirement already satisfied: unicodecsv in c:\\users\\keerthi\\appdata\\local\\packages\\pythonsoftwarefoundation.python.3.10_qbz5n2kfra8p0\\localcache\\local-packages\\python310\\site-packages (from panphon->allosaurus->phonemeRecognizerWrapper) (0.14.1)\n",
      "Requirement already satisfied: PyYAML in c:\\users\\keerthi\\appdata\\local\\packages\\pythonsoftwarefoundation.python.3.10_qbz5n2kfra8p0\\localcache\\local-packages\\python310\\site-packages (from panphon->allosaurus->phonemeRecognizerWrapper) (6.0.1)\n",
      "Collecting regex (from panphon->allosaurus->phonemeRecognizerWrapper)\n",
      "  Downloading regex-2024.7.24-cp310-cp310-win_amd64.whl.metadata (41 kB)\n",
      "     ---------------------------------------- 0.0/41.5 kB ? eta -:--:--\n",
      "     -------------------------------------- 41.5/41.5 kB 978.3 kB/s eta 0:00:00\n",
      "Collecting munkres (from panphon->allosaurus->phonemeRecognizerWrapper)\n",
      "  Downloading munkres-1.1.4-py2.py3-none-any.whl.metadata (980 bytes)\n",
      "Requirement already satisfied: numba>=0.53 in c:\\users\\keerthi\\appdata\\local\\packages\\pythonsoftwarefoundation.python.3.10_qbz5n2kfra8p0\\localcache\\local-packages\\python310\\site-packages (from resampy->allosaurus->phonemeRecognizerWrapper) (0.58.1)\n",
      "Requirement already satisfied: filelock in c:\\users\\keerthi\\appdata\\local\\packages\\pythonsoftwarefoundation.python.3.10_qbz5n2kfra8p0\\localcache\\local-packages\\python310\\site-packages (from torch->allosaurus->phonemeRecognizerWrapper) (3.12.4)\n",
      "Requirement already satisfied: typing-extensions>=4.8.0 in c:\\users\\keerthi\\appdata\\local\\packages\\pythonsoftwarefoundation.python.3.10_qbz5n2kfra8p0\\localcache\\local-packages\\python310\\site-packages (from torch->allosaurus->phonemeRecognizerWrapper) (4.9.0)\n",
      "Requirement already satisfied: sympy in c:\\users\\keerthi\\appdata\\local\\packages\\pythonsoftwarefoundation.python.3.10_qbz5n2kfra8p0\\localcache\\local-packages\\python310\\site-packages (from torch->allosaurus->phonemeRecognizerWrapper) (1.12)\n",
      "Requirement already satisfied: networkx in c:\\users\\keerthi\\appdata\\local\\packages\\pythonsoftwarefoundation.python.3.10_qbz5n2kfra8p0\\localcache\\local-packages\\python310\\site-packages (from torch->allosaurus->phonemeRecognizerWrapper) (3.1)\n",
      "Requirement already satisfied: jinja2 in c:\\users\\keerthi\\appdata\\local\\packages\\pythonsoftwarefoundation.python.3.10_qbz5n2kfra8p0\\localcache\\local-packages\\python310\\site-packages (from torch->allosaurus->phonemeRecognizerWrapper) (3.1.2)\n",
      "Requirement already satisfied: fsspec in c:\\users\\keerthi\\appdata\\local\\packages\\pythonsoftwarefoundation.python.3.10_qbz5n2kfra8p0\\localcache\\local-packages\\python310\\site-packages (from torch->allosaurus->phonemeRecognizerWrapper) (2023.9.2)\n",
      "Requirement already satisfied: llvmlite<0.42,>=0.41.0dev0 in c:\\users\\keerthi\\appdata\\local\\packages\\pythonsoftwarefoundation.python.3.10_qbz5n2kfra8p0\\localcache\\local-packages\\python310\\site-packages (from numba>=0.53->resampy->allosaurus->phonemeRecognizerWrapper) (0.41.1)\n",
      "Requirement already satisfied: MarkupSafe>=2.0 in c:\\users\\keerthi\\appdata\\local\\packages\\pythonsoftwarefoundation.python.3.10_qbz5n2kfra8p0\\localcache\\local-packages\\python310\\site-packages (from jinja2->torch->allosaurus->phonemeRecognizerWrapper) (2.1.3)\n",
      "Requirement already satisfied: mpmath>=0.19 in c:\\users\\keerthi\\appdata\\local\\packages\\pythonsoftwarefoundation.python.3.10_qbz5n2kfra8p0\\localcache\\local-packages\\python310\\site-packages (from sympy->torch->allosaurus->phonemeRecognizerWrapper) (1.3.0)\n",
      "Downloading phonemeRecognizerWrapper-0.1.4-py3-none-any.whl (7.6 kB)\n",
      "Downloading allosaurus-1.0.2-py3-none-any.whl (52 kB)\n",
      "   ---------------------------------------- 0.0/52.1 kB ? eta -:--:--\n",
      "   ------- -------------------------------- 10.2/52.1 kB ? eta -:--:--\n",
      "   ---------------------------------------- 52.1/52.1 kB 675.0 kB/s eta 0:00:00\n",
      "Downloading editdistance-0.8.1-cp310-cp310-win_amd64.whl (79 kB)\n",
      "   ---------------------------------------- 0.0/79.6 kB ? eta -:--:--\n",
      "   --------------- ------------------------ 30.7/79.6 kB 1.4 MB/s eta 0:00:01\n",
      "   ------------------------------ --------- 61.4/79.6 kB 825.8 kB/s eta 0:00:01\n",
      "   ---------------------------------------- 79.6/79.6 kB 636.5 kB/s eta 0:00:00\n",
      "Downloading panphon-0.21.2-py2.py3-none-any.whl (75 kB)\n",
      "   ---------------------------------------- 0.0/75.4 kB ? eta -:--:--\n",
      "   ---------------- ----------------------- 30.7/75.4 kB 1.3 MB/s eta 0:00:01\n",
      "   --------------------- ------------------ 41.0/75.4 kB 393.8 kB/s eta 0:00:01\n",
      "   -------------------------------- ------- 61.4/75.4 kB 409.6 kB/s eta 0:00:01\n",
      "   ---------------------------------------- 75.4/75.4 kB 417.6 kB/s eta 0:00:00\n",
      "Downloading resampy-0.4.3-py3-none-any.whl (3.1 MB)\n",
      "   ---------------------------------------- 0.0/3.1 MB ? eta -:--:--\n",
      "   ---------------------------------------- 0.0/3.1 MB 1.4 MB/s eta 0:00:03\n",
      "    --------------------------------------- 0.1/3.1 MB 787.7 kB/s eta 0:00:04\n",
      "   - -------------------------------------- 0.1/3.1 MB 901.1 kB/s eta 0:00:04\n",
      "   -- ------------------------------------- 0.2/3.1 MB 876.1 kB/s eta 0:00:04\n",
      "   -- ------------------------------------- 0.2/3.1 MB 892.5 kB/s eta 0:00:04\n",
      "   --- ------------------------------------ 0.2/3.1 MB 850.1 kB/s eta 0:00:04\n",
      "   --- ------------------------------------ 0.3/3.1 MB 886.2 kB/s eta 0:00:04\n",
      "   ---- ----------------------------------- 0.3/3.1 MB 912.8 kB/s eta 0:00:04\n",
      "   ----- ---------------------------------- 0.4/3.1 MB 958.4 kB/s eta 0:00:03\n",
      "   ----- ---------------------------------- 0.5/3.1 MB 972.0 kB/s eta 0:00:03\n",
      "   ------ --------------------------------- 0.5/3.1 MB 1.0 MB/s eta 0:00:03\n",
      "   ------ --------------------------------- 0.5/3.1 MB 917.3 kB/s eta 0:00:03\n",
      "   ------- -------------------------------- 0.6/3.1 MB 932.5 kB/s eta 0:00:03\n",
      "   ------- -------------------------------- 0.6/3.1 MB 912.0 kB/s eta 0:00:03\n",
      "   -------- ------------------------------- 0.6/3.1 MB 894.3 kB/s eta 0:00:03\n",
      "   -------- ------------------------------- 0.7/3.1 MB 892.9 kB/s eta 0:00:03\n",
      "   --------- ------------------------------ 0.7/3.1 MB 860.8 kB/s eta 0:00:03\n",
      "   --------- ------------------------------ 0.7/3.1 MB 865.7 kB/s eta 0:00:03\n",
      "   --------- ------------------------------ 0.7/3.1 MB 874.6 kB/s eta 0:00:03\n",
      "   --------- ------------------------------ 0.7/3.1 MB 874.6 kB/s eta 0:00:03\n",
      "   --------- ------------------------------ 0.8/3.1 MB 784.4 kB/s eta 0:00:03\n",
      "   ---------- ----------------------------- 0.8/3.1 MB 768.0 kB/s eta 0:00:03\n",
      "   ---------- ----------------------------- 0.8/3.1 MB 768.0 kB/s eta 0:00:03\n",
      "   ---------- ----------------------------- 0.8/3.1 MB 768.0 kB/s eta 0:00:03\n",
      "   ---------- ----------------------------- 0.8/3.1 MB 768.0 kB/s eta 0:00:03\n",
      "   ---------- ----------------------------- 0.8/3.1 MB 673.2 kB/s eta 0:00:04\n",
      "   ---------- ----------------------------- 0.8/3.1 MB 655.8 kB/s eta 0:00:04\n",
      "   ---------- ----------------------------- 0.8/3.1 MB 655.4 kB/s eta 0:00:04\n",
      "   ----------- ---------------------------- 0.9/3.1 MB 640.0 kB/s eta 0:00:04\n",
      "   ----------- ---------------------------- 0.9/3.1 MB 640.0 kB/s eta 0:00:04\n",
      "   ----------- ---------------------------- 0.9/3.1 MB 619.3 kB/s eta 0:00:04\n",
      "   ----------- ---------------------------- 0.9/3.1 MB 607.2 kB/s eta 0:00:04\n",
      "   ----------- ---------------------------- 0.9/3.1 MB 601.6 kB/s eta 0:00:04\n",
      "   ----------- ---------------------------- 0.9/3.1 MB 601.6 kB/s eta 0:00:04\n",
      "   ----------- ---------------------------- 0.9/3.1 MB 601.6 kB/s eta 0:00:04\n",
      "   ------------ --------------------------- 0.9/3.1 MB 562.7 kB/s eta 0:00:04\n",
      "   ------------ --------------------------- 1.0/3.1 MB 548.4 kB/s eta 0:00:04\n",
      "   ------------ --------------------------- 1.0/3.1 MB 545.4 kB/s eta 0:00:04\n",
      "   ------------ --------------------------- 1.0/3.1 MB 547.0 kB/s eta 0:00:04\n",
      "   ------------- -------------------------- 1.0/3.1 MB 538.9 kB/s eta 0:00:04\n",
      "   ------------- -------------------------- 1.0/3.1 MB 536.4 kB/s eta 0:00:04\n",
      "   ------------- -------------------------- 1.0/3.1 MB 528.7 kB/s eta 0:00:04\n",
      "   ------------- -------------------------- 1.1/3.1 MB 526.5 kB/s eta 0:00:04\n",
      "   ------------- -------------------------- 1.1/3.1 MB 526.5 kB/s eta 0:00:04\n",
      "   ------------- -------------------------- 1.1/3.1 MB 526.5 kB/s eta 0:00:04\n",
      "   ------------- -------------------------- 1.1/3.1 MB 508.8 kB/s eta 0:00:04\n",
      "   -------------- ------------------------- 1.1/3.1 MB 502.4 kB/s eta 0:00:04\n",
      "   -------------- ------------------------- 1.1/3.1 MB 501.0 kB/s eta 0:00:04\n",
      "   -------------- ------------------------- 1.1/3.1 MB 488.3 kB/s eta 0:00:05\n",
      "   -------------- ------------------------- 1.1/3.1 MB 487.2 kB/s eta 0:00:04\n",
      "   --------------- ------------------------ 1.2/3.1 MB 486.2 kB/s eta 0:00:04\n",
      "   --------------- ------------------------ 1.2/3.1 MB 486.2 kB/s eta 0:00:04\n",
      "   --------------- ------------------------ 1.2/3.1 MB 480.1 kB/s eta 0:00:04\n",
      "   --------------- ------------------------ 1.2/3.1 MB 475.1 kB/s eta 0:00:04\n",
      "   --------------- ------------------------ 1.2/3.1 MB 474.4 kB/s eta 0:00:04\n",
      "   --------------- ------------------------ 1.2/3.1 MB 474.4 kB/s eta 0:00:04\n",
      "   --------------- ------------------------ 1.2/3.1 MB 474.4 kB/s eta 0:00:04\n",
      "   --------------- ------------------------ 1.2/3.1 MB 474.4 kB/s eta 0:00:04\n",
      "   --------------- ------------------------ 1.2/3.1 MB 474.4 kB/s eta 0:00:04\n",
      "   --------------- ------------------------ 1.2/3.1 MB 474.4 kB/s eta 0:00:04\n",
      "   --------------- ------------------------ 1.2/3.1 MB 474.4 kB/s eta 0:00:04\n",
      "   --------------- ------------------------ 1.2/3.1 MB 474.4 kB/s eta 0:00:04\n",
      "   --------------- ------------------------ 1.2/3.1 MB 474.4 kB/s eta 0:00:04\n",
      "   ---------------- ----------------------- 1.2/3.1 MB 416.1 kB/s eta 0:00:05\n",
      "   ---------------- ----------------------- 1.2/3.1 MB 411.0 kB/s eta 0:00:05\n",
      "   ---------------- ----------------------- 1.3/3.1 MB 413.4 kB/s eta 0:00:05\n",
      "   ---------------- ----------------------- 1.3/3.1 MB 410.5 kB/s eta 0:00:05\n",
      "   ---------------- ----------------------- 1.3/3.1 MB 408.8 kB/s eta 0:00:05\n",
      "   ---------------- ----------------------- 1.3/3.1 MB 408.8 kB/s eta 0:00:05\n",
      "   ----------------- ---------------------- 1.3/3.1 MB 404.6 kB/s eta 0:00:05\n",
      "   ----------------- ---------------------- 1.4/3.1 MB 405.0 kB/s eta 0:00:05\n",
      "   ----------------- ---------------------- 1.4/3.1 MB 404.3 kB/s eta 0:00:05\n",
      "   ------------------ --------------------- 1.4/3.1 MB 407.0 kB/s eta 0:00:05\n",
      "   ------------------ --------------------- 1.4/3.1 MB 406.3 kB/s eta 0:00:05\n",
      "   ------------------ --------------------- 1.4/3.1 MB 408.5 kB/s eta 0:00:05\n",
      "   ------------------- -------------------- 1.5/3.1 MB 409.9 kB/s eta 0:00:04\n",
      "   ------------------- -------------------- 1.5/3.1 MB 410.4 kB/s eta 0:00:04\n",
      "   ------------------- -------------------- 1.5/3.1 MB 409.6 kB/s eta 0:00:04\n",
      "   ------------------- -------------------- 1.5/3.1 MB 411.0 kB/s eta 0:00:04\n",
      "   -------------------- ------------------- 1.6/3.1 MB 416.8 kB/s eta 0:00:04\n",
      "   -------------------- ------------------- 1.6/3.1 MB 419.8 kB/s eta 0:00:04\n",
      "   --------------------- ------------------ 1.6/3.1 MB 424.4 kB/s eta 0:00:04\n",
      "   --------------------- ------------------ 1.7/3.1 MB 427.2 kB/s eta 0:00:04\n",
      "   --------------------- ------------------ 1.7/3.1 MB 429.9 kB/s eta 0:00:04\n",
      "   ---------------------- ----------------- 1.7/3.1 MB 433.5 kB/s eta 0:00:04\n",
      "   ---------------------- ----------------- 1.7/3.1 MB 434.4 kB/s eta 0:00:04\n",
      "   ----------------------- ---------------- 1.8/3.1 MB 433.6 kB/s eta 0:00:04\n",
      "   ----------------------- ---------------- 1.8/3.1 MB 438.6 kB/s eta 0:00:03\n",
      "   ----------------------- ---------------- 1.8/3.1 MB 441.0 kB/s eta 0:00:03\n",
      "   ------------------------ --------------- 1.9/3.1 MB 443.4 kB/s eta 0:00:03\n",
      "   ------------------------- -------------- 1.9/3.1 MB 449.0 kB/s eta 0:00:03\n",
      "   ------------------------- -------------- 2.0/3.1 MB 452.8 kB/s eta 0:00:03\n",
      "   ------------------------- -------------- 2.0/3.1 MB 456.6 kB/s eta 0:00:03\n",
      "   -------------------------- ------------- 2.0/3.1 MB 461.8 kB/s eta 0:00:03\n",
      "   --------------------------- ------------ 2.1/3.1 MB 468.5 kB/s eta 0:00:03\n",
      "   --------------------------- ------------ 2.1/3.1 MB 472.1 kB/s eta 0:00:03\n",
      "   ---------------------------- ----------- 2.2/3.1 MB 476.3 kB/s eta 0:00:02\n",
      "   ---------------------------- ----------- 2.2/3.1 MB 480.4 kB/s eta 0:00:02\n",
      "   ----------------------------- ---------- 2.2/3.1 MB 482.1 kB/s eta 0:00:02\n",
      "   ----------------------------- ---------- 2.3/3.1 MB 485.5 kB/s eta 0:00:02\n",
      "   ------------------------------ --------- 2.3/3.1 MB 489.9 kB/s eta 0:00:02\n",
      "   ------------------------------ --------- 2.4/3.1 MB 497.5 kB/s eta 0:00:02\n",
      "   ------------------------------- -------- 2.4/3.1 MB 499.0 kB/s eta 0:00:02\n",
      "   ------------------------------- -------- 2.4/3.1 MB 502.2 kB/s eta 0:00:02\n",
      "   ------------------------------- -------- 2.5/3.1 MB 502.0 kB/s eta 0:00:02\n",
      "   -------------------------------- ------- 2.5/3.1 MB 503.5 kB/s eta 0:00:02\n",
      "   -------------------------------- ------- 2.5/3.1 MB 508.6 kB/s eta 0:00:02\n",
      "   --------------------------------- ------ 2.6/3.1 MB 510.5 kB/s eta 0:00:01\n",
      "   ---------------------------------- ----- 2.6/3.1 MB 515.8 kB/s eta 0:00:01\n",
      "   ---------------------------------- ----- 2.7/3.1 MB 521.1 kB/s eta 0:00:01\n",
      "   ----------------------------------- ---- 2.7/3.1 MB 522.3 kB/s eta 0:00:01\n",
      "   ----------------------------------- ---- 2.8/3.1 MB 527.4 kB/s eta 0:00:01\n",
      "   ------------------------------------ --- 2.8/3.1 MB 528.6 kB/s eta 0:00:01\n",
      "   ------------------------------------- -- 2.9/3.1 MB 537.4 kB/s eta 0:00:01\n",
      "   ------------------------------------- -- 2.9/3.1 MB 540.5 kB/s eta 0:00:01\n",
      "   -------------------------------------- - 2.9/3.1 MB 543.3 kB/s eta 0:00:01\n",
      "   ---------------------------------------  3.0/3.1 MB 548.3 kB/s eta 0:00:01\n",
      "   ---------------------------------------  3.0/3.1 MB 550.8 kB/s eta 0:00:01\n",
      "   ---------------------------------------- 3.1/3.1 MB 552.8 kB/s eta 0:00:00\n",
      "Downloading munkres-1.1.4-py2.py3-none-any.whl (7.0 kB)\n",
      "Downloading regex-2024.7.24-cp310-cp310-win_amd64.whl (269 kB)\n",
      "   ---------------------------------------- 0.0/269.7 kB ? eta -:--:--\n",
      "   - -------------------------------------- 10.2/269.7 kB ? eta -:--:--\n",
      "   ----- --------------------------------- 41.0/269.7 kB 653.6 kB/s eta 0:00:01\n",
      "   ----- --------------------------------- 41.0/269.7 kB 653.6 kB/s eta 0:00:01\n",
      "   -------- ------------------------------ 61.4/269.7 kB 409.6 kB/s eta 0:00:01\n",
      "   ----------- --------------------------- 81.9/269.7 kB 456.6 kB/s eta 0:00:01\n",
      "   ------------- ------------------------- 92.2/269.7 kB 401.6 kB/s eta 0:00:01\n",
      "   ----------------- -------------------- 122.9/269.7 kB 423.5 kB/s eta 0:00:01\n",
      "   -------------------- ----------------- 143.4/269.7 kB 448.2 kB/s eta 0:00:01\n",
      "   ----------------------- -------------- 163.8/269.7 kB 466.9 kB/s eta 0:00:01\n",
      "   --------------------------- ---------- 194.6/269.7 kB 471.4 kB/s eta 0:00:01\n",
      "   ---------------------------- --------- 204.8/269.7 kB 461.0 kB/s eta 0:00:01\n",
      "   ------------------------------- ------ 225.3/269.7 kB 458.5 kB/s eta 0:00:01\n",
      "   ---------------------------------- --- 245.8/269.7 kB 471.0 kB/s eta 0:00:01\n",
      "   ---------------------------------- --- 245.8/269.7 kB 471.0 kB/s eta 0:00:01\n",
      "   ---------------------------------- --- 245.8/269.7 kB 471.0 kB/s eta 0:00:01\n",
      "   ---------------------------------- --- 245.8/269.7 kB 471.0 kB/s eta 0:00:01\n",
      "   ---------------------------------- --- 245.8/269.7 kB 471.0 kB/s eta 0:00:01\n",
      "   ---------------------------------- --- 245.8/269.7 kB 471.0 kB/s eta 0:00:01\n",
      "   ---------------------------------- --- 245.8/269.7 kB 471.0 kB/s eta 0:00:01\n",
      "   -------------------------------------- 269.7/269.7 kB 319.1 kB/s eta 0:00:00\n",
      "Installing collected packages: munkres, regex, editdistance, resampy, panphon, allosaurus, phonemeRecognizerWrapper\n",
      "Successfully installed allosaurus-1.0.2 editdistance-0.8.1 munkres-1.1.4 panphon-0.21.2 phonemeRecognizerWrapper-0.1.4 regex-2024.7.24 resampy-0.4.3\n"
     ]
    },
    {
     "name": "stderr",
     "output_type": "stream",
     "text": [
      "\n",
      "[notice] A new release of pip is available: 24.0 -> 24.2\n",
      "[notice] To update, run: C:\\Users\\Keerthi\\AppData\\Local\\Microsoft\\WindowsApps\\PythonSoftwareFoundation.Python.3.10_qbz5n2kfra8p0\\python.exe -m pip install --upgrade pip\n"
     ]
    }
   ],
   "source": [
    "! pip install phonemeRecognizerWrapper"
   ]
  },
  {
   "cell_type": "code",
   "execution_count": 3,
   "metadata": {},
   "outputs": [
    {
     "name": "stdout",
     "output_type": "stream",
     "text": [
      "Requirement already satisfied: allosaurus in c:\\users\\keerthi\\appdata\\local\\packages\\pythonsoftwarefoundation.python.3.10_qbz5n2kfra8p0\\localcache\\local-packages\\python310\\site-packages (1.0.2)\n",
      "Requirement already satisfied: scipy in c:\\users\\keerthi\\appdata\\local\\packages\\pythonsoftwarefoundation.python.3.10_qbz5n2kfra8p0\\localcache\\local-packages\\python310\\site-packages (from allosaurus) (1.7.3)\n",
      "Requirement already satisfied: numpy in c:\\users\\keerthi\\appdata\\local\\packages\\pythonsoftwarefoundation.python.3.10_qbz5n2kfra8p0\\localcache\\local-packages\\python310\\site-packages (from allosaurus) (1.22.3)\n",
      "Requirement already satisfied: resampy in c:\\users\\keerthi\\appdata\\local\\packages\\pythonsoftwarefoundation.python.3.10_qbz5n2kfra8p0\\localcache\\local-packages\\python310\\site-packages (from allosaurus) (0.4.3)\n",
      "Requirement already satisfied: panphon in c:\\users\\keerthi\\appdata\\local\\packages\\pythonsoftwarefoundation.python.3.10_qbz5n2kfra8p0\\localcache\\local-packages\\python310\\site-packages (from allosaurus) (0.21.2)\n",
      "Requirement already satisfied: torch in c:\\users\\keerthi\\appdata\\local\\packages\\pythonsoftwarefoundation.python.3.10_qbz5n2kfra8p0\\localcache\\local-packages\\python310\\site-packages (from allosaurus) (2.2.1)\n",
      "Requirement already satisfied: editdistance in c:\\users\\keerthi\\appdata\\local\\packages\\pythonsoftwarefoundation.python.3.10_qbz5n2kfra8p0\\localcache\\local-packages\\python310\\site-packages (from allosaurus) (0.8.1)\n",
      "Requirement already satisfied: setuptools in c:\\program files\\windowsapps\\pythonsoftwarefoundation.python.3.10_3.10.3056.0_x64__qbz5n2kfra8p0\\lib\\site-packages (from panphon->allosaurus) (65.5.0)\n",
      "Requirement already satisfied: unicodecsv in c:\\users\\keerthi\\appdata\\local\\packages\\pythonsoftwarefoundation.python.3.10_qbz5n2kfra8p0\\localcache\\local-packages\\python310\\site-packages (from panphon->allosaurus) (0.14.1)\n",
      "Requirement already satisfied: PyYAML in c:\\users\\keerthi\\appdata\\local\\packages\\pythonsoftwarefoundation.python.3.10_qbz5n2kfra8p0\\localcache\\local-packages\\python310\\site-packages (from panphon->allosaurus) (6.0.1)\n",
      "Requirement already satisfied: regex in c:\\users\\keerthi\\appdata\\local\\packages\\pythonsoftwarefoundation.python.3.10_qbz5n2kfra8p0\\localcache\\local-packages\\python310\\site-packages (from panphon->allosaurus) (2024.7.24)\n",
      "Requirement already satisfied: munkres in c:\\users\\keerthi\\appdata\\local\\packages\\pythonsoftwarefoundation.python.3.10_qbz5n2kfra8p0\\localcache\\local-packages\\python310\\site-packages (from panphon->allosaurus) (1.1.4)\n",
      "Requirement already satisfied: numba>=0.53 in c:\\users\\keerthi\\appdata\\local\\packages\\pythonsoftwarefoundation.python.3.10_qbz5n2kfra8p0\\localcache\\local-packages\\python310\\site-packages (from resampy->allosaurus) (0.58.1)\n",
      "Requirement already satisfied: filelock in c:\\users\\keerthi\\appdata\\local\\packages\\pythonsoftwarefoundation.python.3.10_qbz5n2kfra8p0\\localcache\\local-packages\\python310\\site-packages (from torch->allosaurus) (3.12.4)\n",
      "Requirement already satisfied: typing-extensions>=4.8.0 in c:\\users\\keerthi\\appdata\\local\\packages\\pythonsoftwarefoundation.python.3.10_qbz5n2kfra8p0\\localcache\\local-packages\\python310\\site-packages (from torch->allosaurus) (4.9.0)\n",
      "Requirement already satisfied: sympy in c:\\users\\keerthi\\appdata\\local\\packages\\pythonsoftwarefoundation.python.3.10_qbz5n2kfra8p0\\localcache\\local-packages\\python310\\site-packages (from torch->allosaurus) (1.12)\n",
      "Requirement already satisfied: networkx in c:\\users\\keerthi\\appdata\\local\\packages\\pythonsoftwarefoundation.python.3.10_qbz5n2kfra8p0\\localcache\\local-packages\\python310\\site-packages (from torch->allosaurus) (3.1)\n",
      "Requirement already satisfied: jinja2 in c:\\users\\keerthi\\appdata\\local\\packages\\pythonsoftwarefoundation.python.3.10_qbz5n2kfra8p0\\localcache\\local-packages\\python310\\site-packages (from torch->allosaurus) (3.1.2)\n",
      "Requirement already satisfied: fsspec in c:\\users\\keerthi\\appdata\\local\\packages\\pythonsoftwarefoundation.python.3.10_qbz5n2kfra8p0\\localcache\\local-packages\\python310\\site-packages (from torch->allosaurus) (2023.9.2)\n",
      "Requirement already satisfied: llvmlite<0.42,>=0.41.0dev0 in c:\\users\\keerthi\\appdata\\local\\packages\\pythonsoftwarefoundation.python.3.10_qbz5n2kfra8p0\\localcache\\local-packages\\python310\\site-packages (from numba>=0.53->resampy->allosaurus) (0.41.1)\n",
      "Requirement already satisfied: MarkupSafe>=2.0 in c:\\users\\keerthi\\appdata\\local\\packages\\pythonsoftwarefoundation.python.3.10_qbz5n2kfra8p0\\localcache\\local-packages\\python310\\site-packages (from jinja2->torch->allosaurus) (2.1.3)\n",
      "Requirement already satisfied: mpmath>=0.19 in c:\\users\\keerthi\\appdata\\local\\packages\\pythonsoftwarefoundation.python.3.10_qbz5n2kfra8p0\\localcache\\local-packages\\python310\\site-packages (from sympy->torch->allosaurus) (1.3.0)\n"
     ]
    },
    {
     "name": "stderr",
     "output_type": "stream",
     "text": [
      "\n",
      "[notice] A new release of pip is available: 24.0 -> 24.2\n",
      "[notice] To update, run: C:\\Users\\Keerthi\\AppData\\Local\\Microsoft\\WindowsApps\\PythonSoftwareFoundation.Python.3.10_qbz5n2kfra8p0\\python.exe -m pip install --upgrade pip\n"
     ]
    }
   ],
   "source": [
    "! pip install allosaurus"
   ]
  },
  {
   "cell_type": "code",
   "execution_count": 2,
   "metadata": {},
   "outputs": [
    {
     "name": "stderr",
     "output_type": "stream",
     "text": [
      "C:\\Users\\Keerthi\\AppData\\Local\\Programs\\Python\\Python311\\python.exe: Error while finding module specification for 'phonemeRecognizerWrapper.recognize' (ModuleNotFoundError: No module named 'phonemeRecognizerWrapper')\n"
     ]
    }
   ],
   "source": [
    "! py -m phonemeRecognizerWrapper.recognize eng \"SpeechData\\pilot\\ID_1_PILOT\\ID_1_level2_ఆవు.wav\" 1.0"
   ]
  },
  {
   "cell_type": "code",
   "execution_count": 4,
   "metadata": {},
   "outputs": [
    {
     "data": {
      "text/plain": [
       "'ɪ ɾ'"
      ]
     },
     "execution_count": 4,
     "metadata": {},
     "output_type": "execute_result"
    }
   ],
   "source": [
    "from allosaurus.app import read_recognizer\n",
    "\n",
    "model = read_recognizer()\n",
    "# load your model by the <model name>, will use 'latest' if left empty\n",
    "\n",
    "audio_file = \"../../Speech-Data/pilot/ID_4_PILOT/ID_4_level2_గాటు.wav\"\n",
    "# lang = \n",
    "# run inference on <audio_file> with <lang>, lang will be 'ipa' if left empty\n",
    "model.recognize(audio_file)"
   ]
  },
  {
   "cell_type": "code",
   "execution_count": 32,
   "metadata": {},
   "outputs": [],
   "source": [
    "import librosa\n",
    "import soundfile as sf\n",
    "# Load the audio file\n",
    "from IPython.display import Audio\n",
    "audio_file = \"../../Speech-Data/pilot/ID_4_PILOT/ID_4_level2_గాటు.wav\"\n",
    "signal, sr = librosa.load(audio_file, sr=None)\n",
    "\n",
    "# Calculate the starting and ending indices for the segment from 3 to 4 seconds\n",
    "start_time = 0  # Start time in seconds\n",
    "end_time = 5    # End time in seconds\n",
    "start_index = int(start_time * sr)\n",
    "end_index = int(end_time * sr)\n",
    "\n",
    "# Extract the segment from the audio signal\n",
    "segment = signal[start_index:end_index]\n",
    "Audio(segment, rate=sr)\n",
    "# Specify the file path to save the audio segment\n",
    "output_file = \"segment.wav\"\n",
    "\n",
    "# Save the audio segment as a WAV file\n",
    "sf.write(output_file, segment, sr)"
   ]
  },
  {
   "cell_type": "code",
   "execution_count": 33,
   "metadata": {},
   "outputs": [
    {
     "data": {
      "text/plain": [
       "'t̪ʰ i j a l'"
      ]
     },
     "execution_count": 33,
     "metadata": {},
     "output_type": "execute_result"
    }
   ],
   "source": [
    "model.recognize(\"segment.wav\",\"tel\")"
   ]
  },
  {
   "cell_type": "code",
   "execution_count": 10,
   "metadata": {},
   "outputs": [
    {
     "name": "stdout",
     "output_type": "stream",
     "text": [
      "- ISO639-3:  tel Glotto Code telu1262  name:  b'telugu'\n"
     ]
    }
   ],
   "source": [
    "! python -m allosaurus.bin.list_lang | findstr /i \"telugu\""
   ]
  },
  {
   "cell_type": "code",
   "execution_count": 14,
   "metadata": {},
   "outputs": [
    {
     "name": "stdout",
     "output_type": "stream",
     "text": [
      "a aː b bʰ bː b̤ c cʰ d dː d̤ d̪ d̪ʰ d̪̤ e eː f h i iː j k kʰ kː l lː l̪ m mː n nː n̪ o oː o̞ p pʰ pː rː r̪ s sː s̪ t tː t̠ t̪ t̪ʰ u uː v w z zː æ æː ŋ ɑ ɒː ɔː ɕ ɖ ɖʰ ɖː ɖ̤ ə ɛ ɛː ɜ ɟ ɟʰ ɟ̤ ɡ ɡʰ ɡː ɡ̤ ɦ ɪ ɪː ɭ ɭː ɲ ɳ ɽ ɾ ʂ ʃ ʈ ʈʰ ʈː ʊ ʊː ʝ β̞\n"
     ]
    }
   ],
   "source": [
    "! python -m allosaurus.bin.list_phone --lang \"tel\""
   ]
  }
 ],
 "metadata": {
  "kernelspec": {
   "display_name": "Python 3",
   "language": "python",
   "name": "python3"
  },
  "language_info": {
   "codemirror_mode": {
    "name": "ipython",
    "version": 3
   },
   "file_extension": ".py",
   "mimetype": "text/x-python",
   "name": "python",
   "nbconvert_exporter": "python",
   "pygments_lexer": "ipython3",
   "version": "3.10.11"
  }
 },
 "nbformat": 4,
 "nbformat_minor": 2
}
