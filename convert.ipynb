{
 "cells": [
  {
   "cell_type": "code",
   "execution_count": null,
   "metadata": {},
   "outputs": [],
   "source": [
    "import os\n",
    "import subprocess\n",
    "\n",
    "def convert_mp3_to_wav(root_dir):\n",
    "    for root, _, files in os.walk(root_dir):\n",
    "        for file in files:\n",
    "            if file.endswith('.mp3'):\n",
    "                mp3_path = os.path.join(root, file)\n",
    "                wav_path = os.path.join(root, os.path.splitext(file)[0] + '.wav')\n",
    "                \n",
    "                try:\n",
    "                    result = subprocess.run(['ffmpeg', '-i', mp3_path, wav_path], capture_output=True, text=True)\n",
    "                    result.check_returncode()  # Raise an error if the command failed\n",
    "                    print(f\"Successfully converted: {mp3_path} to {wav_path}\")\n",
    "                    \n",
    "                    # Remove the original MP3 file\n",
    "                    os.remove(mp3_path)\n",
    "                    print(f\"Successfully removed original file: {mp3_path}\")\n",
    "                except subprocess.CalledProcessError as e:\n",
    "                    print(f\"Failed to convert {mp3_path}: {e.stderr}\")\n",
    "                except OSError as e:\n",
    "                    print(f\"Error removing file {mp3_path}: {e.strerror}\")\n",
    "\n",
    "\n",
    "# Replace 'your_directory_path' with the path to the directory containing your MP3 files\n",
    "root_directory = './SpeechData/pilot'\n",
    "convert_mp3_to_wav(root_directory)\n"
   ]
  },
  {
   "cell_type": "code",
   "execution_count": 3,
   "metadata": {},
   "outputs": [
    {
     "name": "stdout",
     "output_type": "stream",
     "text": [
      "MoviePy - Writing audio in NormalisedSpeechData/reference\\paaduu.wav\n"
     ]
    },
    {
     "name": "stderr",
     "output_type": "stream",
     "text": [
      "                                                       "
     ]
    },
    {
     "name": "stdout",
     "output_type": "stream",
     "text": [
      "MoviePy - Done.\n",
      "Converted paaduu.mp3 to paaduu.wav\n",
      "Removed paaduu.mp3\n"
     ]
    },
    {
     "name": "stderr",
     "output_type": "stream",
     "text": [
      "\r"
     ]
    },
    {
     "name": "stdout",
     "output_type": "stream",
     "text": [
      "MoviePy - Writing audio in NormalisedSpeechData/reference\\paatuu.wav\n"
     ]
    },
    {
     "name": "stderr",
     "output_type": "stream",
     "text": [
      "                                                       "
     ]
    },
    {
     "name": "stdout",
     "output_type": "stream",
     "text": [
      "MoviePy - Done.\n",
      "Converted paatuu.mp3 to paatuu.wav\n",
      "Removed paatuu.mp3\n",
      "All files have been converted.\n"
     ]
    },
    {
     "name": "stderr",
     "output_type": "stream",
     "text": [
      "\r"
     ]
    }
   ],
   "source": [
    "from pydub import AudioSegment\n",
    "import os\n",
    "from moviepy.editor import AudioFileClip\n",
    "import os\n",
    "# Folder containing the MP3 files\n",
    "input_folder = 'NormalisedSpeechData/reference'\n",
    "output_folder = 'NormalisedSpeechData/reference'\n",
    "\n",
    "\n",
    "# Iterate over all MP3 files in the input folder\n",
    "for filename in os.listdir(input_folder):\n",
    "    if filename.endswith('.mp3'):\n",
    "        # Construct the full file path\n",
    "        mp3_path = os.path.join(input_folder, filename)\n",
    "        \n",
    "        # Check if the file exists\n",
    "        if not os.path.isfile(mp3_path):\n",
    "            print(f\"File not found: {mp3_path}\")\n",
    "            continue\n",
    "        \n",
    "        try:\n",
    "            # Load the MP3 file\n",
    "            audio = AudioFileClip(mp3_path)\n",
    "            \n",
    "            # Define the output WAV file path\n",
    "            wav_filename = os.path.splitext(filename)[0] + '.wav'\n",
    "            wav_path = os.path.join(output_folder, wav_filename)\n",
    "            \n",
    "            # Export the audio as WAV\n",
    "            audio.write_audiofile(wav_path, codec='pcm_s16le')\n",
    "            print(f'Converted {filename} to {wav_filename}')\n",
    "\n",
    "            os.remove(mp3_path)\n",
    "            print(f'Removed {filename}')\n",
    "        except Exception as e:\n",
    "            print(f\"Error processing {filename}: {e}\")\n",
    "\n",
    "print('All files have been converted.')"
   ]
  }
 ],
 "metadata": {
  "kernelspec": {
   "display_name": "Python 3",
   "language": "python",
   "name": "python3"
  },
  "language_info": {
   "codemirror_mode": {
    "name": "ipython",
    "version": 3
   },
   "file_extension": ".py",
   "mimetype": "text/x-python",
   "name": "python",
   "nbconvert_exporter": "python",
   "pygments_lexer": "ipython3",
   "version": "3.10.11"
  }
 },
 "nbformat": 4,
 "nbformat_minor": 2
}
