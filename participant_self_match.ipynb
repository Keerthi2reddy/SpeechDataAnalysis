{
 "cells": [
  {
   "cell_type": "code",
   "execution_count": 8,
   "metadata": {},
   "outputs": [],
   "source": [
    "import librosa\n",
    "import soundfile as sf\n",
    "import numpy as np\n",
    "from fastdtw import fastdtw\n",
    "from scipy.spatial.distance import euclidean"
   ]
  },
  {
   "cell_type": "code",
   "execution_count": 9,
   "metadata": {},
   "outputs": [],
   "source": [
    "def normalize_audio(filepath, target_rms=0.1):\n",
    "    audio, sr = librosa.load(filepath, sr=None)\n",
    "    rms = (audio ** 2).mean() ** 0.5\n",
    "    scaling_factor = target_rms / rms\n",
    "    normalized_audio = audio * scaling_factor\n",
    "    sf.write(filepath, normalized_audio, sr)"
   ]
  },
  {
   "cell_type": "code",
   "execution_count": 10,
   "metadata": {},
   "outputs": [],
   "source": [
    "def split_audio(file_path, segment_duration=6, sr=16000):\n",
    "    y, _ = librosa.load(file_path, sr=sr)\n",
    "    segment_length = segment_duration * sr\n",
    "    segments = [y[i:i + segment_length] for i in range(0, len(y), segment_length)]\n",
    "    return segments"
   ]
  },
  {
   "cell_type": "code",
   "execution_count": 11,
   "metadata": {},
   "outputs": [],
   "source": [
    "def compute_spectrogram(signal, sr=16000, n_fft=2048, hop_length=512):\n",
    "    # Compute the Short-Time Fourier Transform (STFT) to get the spectrogram\n",
    "    spectrogram = librosa.stft(signal, n_fft=n_fft, hop_length=hop_length)\n",
    "    # Convert the amplitude to decibels\n",
    "    spectrogram_db = librosa.amplitude_to_db(np.abs(spectrogram), ref=np.max)\n",
    "    # Transpose the spectrogram so that time is on the x-axis\n",
    "    return spectrogram_db.T\n",
    "\n",
    "def compare_spectrograms_dtw(spectrograms1, spectrograms2):\n",
    "    dtw_distances = []\n",
    "    for s1 in spectrograms1:\n",
    "        for s2 in spectrograms2:\n",
    "            # Calculate the DTW distance between s1 and s2\n",
    "            distance, path = fastdtw(s1, s2, dist=euclidean)\n",
    "            dtw_distances.append(distance)\n",
    "    return dtw_distances\n"
   ]
  },
  {
   "cell_type": "code",
   "execution_count": 12,
   "metadata": {},
   "outputs": [],
   "source": [
    "def find_best_matches(a_vs_b_similarities, a_vs_c_similarities,a_vs_a_similarities):\n",
    "    best_matches = []\n",
    "    for i in range(3):\n",
    "        # Best match of the i-th segment of A with all segments of B\n",
    "        start_idx_b = i * 3\n",
    "        end_idx_b = (i + 1) * 3\n",
    "        best_match_b = min(a_vs_b_similarities[start_idx_b:end_idx_b], default=-1)\n",
    "        best_match_c = min(a_vs_c_similarities[start_idx_b:end_idx_b], default=-1)\n",
    "\n",
    "        # Best match of the i-th segment of A with other segments of A\n",
    "        start_idx_a = i * 3\n",
    "        end_idx_a = (i + 1) * 3\n",
    "        best_match_a = min([sim for j, sim in enumerate(a_vs_a_similarities[start_idx_a:end_idx_a]) if i != j], default=-1)\n",
    "\n",
    "        # Determine if the best match is from B or C or from A\n",
    "        best_match_source = 'B' if best_match_b < best_match_c else 'C'\n",
    "        if best_match_source == 'B':\n",
    "            best_match_source = 'B' if best_match_b < best_match_a else 'A'\n",
    "        else:\n",
    "            best_match_source = 'C' if best_match_c < best_match_a else 'A'\n",
    "        best_matches.append((best_match_b,best_match_c ,best_match_a, best_match_source))\n",
    "    \n",
    "    return best_matches"
   ]
  },
  {
   "cell_type": "code",
   "execution_count": 15,
   "metadata": {},
   "outputs": [
    {
     "name": "stdout",
     "output_type": "stream",
     "text": [
      "Segment 0 of A:\n",
      "  Best match with B: 22225.088335499757\n",
      "  Best match with B: 20083.69052912389\n",
      "  Best match with other A segments: 17919.70614771594\n",
      "  Best match source: A\n",
      "Segment 1 of A:\n",
      "  Best match with B: 20801.33429354625\n",
      "  Best match with B: 17467.762998176917\n",
      "  Best match with other A segments: 11365.949778373835\n",
      "  Best match source: A\n",
      "Segment 2 of A:\n",
      "  Best match with B: 16252.331655686872\n",
      "  Best match with B: 14358.021531980876\n",
      "  Best match with other A segments: 11365.949778373835\n",
      "  Best match source: A\n"
     ]
    }
   ],
   "source": [
    "pairs = [\n",
    "    (\"ID_1_level1__ɐ_.wav\", \"ID_1_level1__p_.wav\", \"ID_1_level1__b_.wav\")\n",
    "]\n",
    "\n",
    "for file1, file2, file3 in pairs:\n",
    "    # normalize_audio(file1)\n",
    "    # normalize_audio(file2)\n",
    "    # normalize_audio(file3)\n",
    "\n",
    "    a_segments = split_audio(file1)\n",
    "    b_segments = split_audio(file2)\n",
    "    c_segments = split_audio(file3)\n",
    "\n",
    "    a_spectrograms = [compute_spectrogram(segment) for segment in a_segments]\n",
    "    b_spectrograms = [compute_spectrogram(segment) for segment in b_segments]\n",
    "    c_spectrograms = [compute_spectrogram(segment) for segment in c_segments]\n",
    "\n",
    "    a_vs_b_similarities_dtw_spec = compare_spectrograms_dtw(a_spectrograms, b_spectrograms)\n",
    "    a_vs_c_similarities_dtw_spec = compare_spectrograms_dtw(a_spectrograms, c_spectrograms)\n",
    "    a_vs_a_similarities_dtw_spec = compare_spectrograms_dtw(a_spectrograms, a_spectrograms)\n",
    "\n",
    "    best_matches_dtw_spec = find_best_matches( a_vs_b_similarities_dtw_spec,a_vs_c_similarities_dtw_spec, a_vs_a_similarities_dtw_spec)\n",
    "\n",
    "    # Output results\n",
    "    for i, (best_match_b, best_match_c, best_match_a, best_match_source) in enumerate(best_matches_dtw_spec):\n",
    "        print(f\"Segment {i} of A:\")\n",
    "        print(f\"  Best match with B: {best_match_b}\")\n",
    "        print(f\"  Best match with C: {best_match_c}\")\n",
    "        print(f\"  Best match with other A segments: {best_match_a}\")\n",
    "        print(f\"  Best match source: {best_match_source}\")"
   ]
  }
 ],
 "metadata": {
  "kernelspec": {
   "display_name": "Python 3",
   "language": "python",
   "name": "python3"
  },
  "language_info": {
   "codemirror_mode": {
    "name": "ipython",
    "version": 3
   },
   "file_extension": ".py",
   "mimetype": "text/x-python",
   "name": "python",
   "nbconvert_exporter": "python",
   "pygments_lexer": "ipython3",
   "version": "3.10.11"
  }
 },
 "nbformat": 4,
 "nbformat_minor": 2
}
